{
 "cells": [
  {
   "cell_type": "code",
   "execution_count": 1,
   "id": "0f51d45a-e80e-4685-8f08-80d805522cb6",
   "metadata": {},
   "outputs": [],
   "source": [
    "import math\n",
    "import numpy as np"
   ]
  },
  {
   "cell_type": "markdown",
   "id": "e0e3719d-9b6a-44c2-a017-158f4fa3aca3",
   "metadata": {},
   "source": [
    "## Variáveis\n",
    "\n",
    "- `Pk`: array contendo os *k* Ps do problema  \n",
    "- `mi`: valor de *mi* dado pelo problema\n",
    "- `k`: numero de clientes (lembrar de fazer k+1)\n",
    "- `lmbda`: valor de *lambda* dado pelo problema  \n",
    "- `mi_k`: array contendo os *k* MIs do problema  \n",
    "- `lmbda_k`: array contendo os *k* lambdas do problema"
   ]
  },
  {
   "cell_type": "code",
   "execution_count": 2,
   "id": "e751ee23-2be1-4ef7-8b96-5ba226c03aa8",
   "metadata": {},
   "outputs": [
    {
     "name": "stdout",
     "output_type": "stream",
     "text": [
      "mi_k= [0, 20.0, 40.0, 60.0, 60.0, 60.0, 60.0] | lmbda_k = [30, 30, 30, 30, 30, 30, 30]\n"
     ]
    }
   ],
   "source": [
    "mi = 1/(50 * math.pow(10,-3))\n",
    "lmbda = 30\n",
    "k = 6\n",
    "mi_k = [0, mi ,2*mi, 3*mi,3*mi,3*mi,3*mi]\n",
    "lmbda_k = [lmbda] * (k+1)\n",
    "PK_k = []\n",
    "\n",
    "print(f\"mi_k= {mi_k} | lmbda_k = {lmbda_k}\")"
   ]
  },
  {
   "cell_type": "markdown",
   "id": "a736030e-2d61-401c-8c4c-1afa7a87eb73",
   "metadata": {},
   "source": [
    "## Calculo P0"
   ]
  },
  {
   "cell_type": "code",
   "execution_count": 3,
   "id": "5c1bafbf-4054-4744-b278-e212dfa605f0",
   "metadata": {},
   "outputs": [
    {
     "name": "stdout",
     "output_type": "stream",
     "text": [
      "P0 = 0.21368948\n"
     ]
    }
   ],
   "source": [
    "P0 = 0\n",
    "\n",
    "for j in range(1,k+1):\n",
    "    aux_product = 1\n",
    "    for i in range (j):\n",
    "        aux_product *= (lmbda_k[i] / mi_k[i+1])\n",
    "    P0 += aux_product\n",
    "\n",
    "P0 = math.pow((1 + P0),-1)\n",
    "print(f\"P0 = {P0:.8f}\")"
   ]
  },
  {
   "cell_type": "markdown",
   "id": "ea1ec94b-2f78-44e8-93ff-a7554f871b7a",
   "metadata": {},
   "source": [
    "## Calculo Pk \n",
    "\n",
    "é necessário calcular `P0` antes"
   ]
  },
  {
   "cell_type": "code",
   "execution_count": 4,
   "id": "ee21caf2-4b3d-47b4-9e13-80f85b308534",
   "metadata": {},
   "outputs": [
    {
     "name": "stdout",
     "output_type": "stream",
     "text": [
      "P0 = 0.21368948\n",
      "P1 = 0.32053422\n",
      "P2 = 0.24040067\n",
      "P3 = 0.12020033\n",
      "P4 = 0.06010017\n",
      "P5 = 0.03005008\n",
      "P6 = 0.01502504\n"
     ]
    }
   ],
   "source": [
    "def calc_pk(k, lmbda_k, mi_k, P0):\n",
    "    PK = 1\n",
    "    for i in range(k):\n",
    "        PK *= lmbda_k[i] / mi_k[i+1]\n",
    "    return PK * P0\n",
    "\n",
    "for i in range(k+1):\n",
    "    PK_k.append(calc_pk(i, lmbda_k, mi_k, P0))\n",
    "for i, item in enumerate(PK_k):\n",
    "    print(f\"P{i} = {item:.8f}\")"
   ]
  },
  {
   "cell_type": "markdown",
   "id": "b85fe1ff-cbc1-4b33-be2d-862c3d571b85",
   "metadata": {},
   "source": [
    "## Calculo Utilização (U)"
   ]
  },
  {
   "cell_type": "code",
   "execution_count": 5,
   "id": "e91a1899-da0a-49bf-a36a-f608fcf950bd",
   "metadata": {},
   "outputs": [
    {
     "name": "stdout",
     "output_type": "stream",
     "text": [
      "U = 0.78631052\n",
      "0.78631052\n"
     ]
    }
   ],
   "source": [
    "U = 1 - P0\n",
    "print(f\"U = {U:.8f}\")\n",
    "x=0\n",
    "x = print(f\"{sum(PK_k[1:]):.8f}\")\n",
    "x"
   ]
  },
  {
   "cell_type": "markdown",
   "id": "9b3b9e77-9f15-4ce0-a39b-1c3c629e5bcd",
   "metadata": {},
   "source": [
    "## Calculo Throughput (X0)\n"
   ]
  },
  {
   "cell_type": "code",
   "execution_count": 6,
   "id": "288effd1-e5c3-4bbf-80ce-0386c47e519f",
   "metadata": {},
   "outputs": [
    {
     "name": "stdout",
     "output_type": "stream",
     "text": [
      "X0 = 29.54924875\n"
     ]
    }
   ],
   "source": [
    "X0 = 0\n",
    "for i in range(k+1):\n",
    "    X0 += mi_k[i]*PK_k[i]\n",
    "print(f\"X0 = {X0:.8f}\")"
   ]
  },
  {
   "cell_type": "markdown",
   "id": "bbe14b68-8031-4bac-bcaa-6453cb3fd6a2",
   "metadata": {},
   "source": [
    "## Calculo Tamanho da fila (N)"
   ]
  },
  {
   "cell_type": "code",
   "execution_count": 7,
   "id": "62b58d7d-7d5b-4d92-87fa-9d628ed89617",
   "metadata": {},
   "outputs": [
    {
     "name": "stdout",
     "output_type": "stream",
     "text": [
      "N = 1.64273790\n"
     ]
    }
   ],
   "source": [
    "N = 0\n",
    "for i in range(k+1):\n",
    "    N += i*PK_k[i]\n",
    "print(f\"N = {N:.8f}\")"
   ]
  },
  {
   "cell_type": "markdown",
   "id": "ff82c463-7c32-47d7-8eff-32ecaa0a8a89",
   "metadata": {},
   "source": [
    "## Tempo Médio de Resposta (R)\n",
    "\n",
    "deve-se calcular o `X0` e `N` antes"
   ]
  },
  {
   "cell_type": "code",
   "execution_count": 8,
   "id": "e706a6eb-93a7-48f3-88c2-9f879b8e2a7f",
   "metadata": {},
   "outputs": [
    {
     "name": "stdout",
     "output_type": "stream",
     "text": [
      "R = 0.05559322\n"
     ]
    }
   ],
   "source": [
    "try: \n",
    "    R = N/X0\n",
    "    print(f\"R = {R:.8f}\")\n",
    "except ZeroDivisionError:\n",
    "    print(\"ERRO: X0 deve ser diferente de zero. Você calculou X0?\")"
   ]
  },
  {
   "cell_type": "markdown",
   "id": "692da31c-e5c0-4f60-94d6-656f86e1ab03",
   "metadata": {},
   "source": [
    "## Resolvendo a questão 1"
   ]
  },
  {
   "cell_type": "code",
   "execution_count": 10,
   "id": "c30fbb63-1f07-4493-b72e-3e91ce2ebb04",
   "metadata": {},
   "outputs": [
    {
     "data": {
      "text/plain": [
       "[0, 0, 1]"
      ]
     },
     "execution_count": 10,
     "metadata": {},
     "output_type": "execute_result"
    }
   ],
   "source": [
    "matrix = np.loadtxt('matrix.csv', delimiter=',')\n",
    "B = [0]*matrix[0].size\n",
    "B[-1] = 1\n",
    "B"
   ]
  },
  {
   "cell_type": "code",
   "execution_count": 14,
   "id": "0aca1701-19ae-45e5-8f25-86fe3f5baa07",
   "metadata": {},
   "outputs": [
    {
     "data": {
      "text/plain": [
       "array([ 0.85470085,  0.14529915, -0.        ])"
      ]
     },
     "execution_count": 14,
     "metadata": {},
     "output_type": "execute_result"
    }
   ],
   "source": [
    "r = np.linalg.solve(matrix,B)\n",
    "r"
   ]
  },
  {
   "cell_type": "code",
   "execution_count": 15,
   "id": "8ad6df30-ff00-4ca8-b78c-38bfb9f58871",
   "metadata": {},
   "outputs": [
    {
     "data": {
      "text/plain": [
       "np.float64(1.0)"
      ]
     },
     "execution_count": 15,
     "metadata": {},
     "output_type": "execute_result"
    }
   ],
   "source": [
    "r.sum()"
   ]
  },
  {
   "cell_type": "code",
   "execution_count": null,
   "id": "1fa7f399-05f9-43cf-b913-b2684023ab13",
   "metadata": {},
   "outputs": [],
   "source": [
    "30*(r[1]+r[2])"
   ]
  }
 ],
 "metadata": {
  "kernelspec": {
   "display_name": "Python 3 (ipykernel)",
   "language": "python",
   "name": "python3"
  },
  "language_info": {
   "codemirror_mode": {
    "name": "ipython",
    "version": 3
   },
   "file_extension": ".py",
   "mimetype": "text/x-python",
   "name": "python",
   "nbconvert_exporter": "python",
   "pygments_lexer": "ipython3",
   "version": "3.9.21"
  }
 },
 "nbformat": 4,
 "nbformat_minor": 5
}
